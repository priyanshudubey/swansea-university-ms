{
  "nbformat": 4,
  "nbformat_minor": 0,
  "metadata": {
    "colab": {
      "provenance": []
    },
    "kernelspec": {
      "name": "python3",
      "display_name": "Python 3"
    },
    "language_info": {
      "name": "python"
    }
  },
  "cells": [
    {
      "cell_type": "markdown",
      "source": [
        "\n",
        "# Name - Priyanshu Dubey\n",
        "# Student No - 2374690\n",
        "# Date - 02/02/2024\n"
      ],
      "metadata": {
        "id": "MJQmnNQ3o1R7"
      }
    },
    {
      "cell_type": "code",
      "source": [
        "import numpy as np\n",
        "import matplotlib.pyplot as plt"
      ],
      "metadata": {
        "id": "2aAjmNbg3yn8"
      },
      "execution_count": null,
      "outputs": []
    },
    {
      "cell_type": "markdown",
      "source": [
        "# TASK 1.1"
      ],
      "metadata": {
        "id": "wb8tIqXWrCHj"
      }
    },
    {
      "cell_type": "code",
      "source": [
        "# In a new cell, create a variable, x, which contains the value 345. Calculate 2x + 5^3 and print the output value\n",
        "x = 345\n",
        "print(2*x + 5**3)"
      ],
      "metadata": {
        "colab": {
          "base_uri": "https://localhost:8080/"
        },
        "id": "p1wnGXvmoxUd",
        "outputId": "02e5b5dc-8e82-495c-edb7-fac7579de778"
      },
      "execution_count": null,
      "outputs": [
        {
          "output_type": "stream",
          "name": "stdout",
          "text": [
            "815\n"
          ]
        }
      ]
    },
    {
      "cell_type": "code",
      "source": [
        "# In a new cell, print the string \"Hello World\"\n",
        "print(\"Hello World!\")"
      ],
      "metadata": {
        "colab": {
          "base_uri": "https://localhost:8080/"
        },
        "id": "iF350dgUpPXb",
        "outputId": "fe95fa33-5760-4f4f-b6a0-f5447a4989a9"
      },
      "execution_count": null,
      "outputs": [
        {
          "output_type": "stream",
          "name": "stdout",
          "text": [
            "Hello World!\n"
          ]
        }
      ]
    },
    {
      "cell_type": "code",
      "source": [
        "#In a new cell, define a function f(w,x,b) = wx +b and call it from another cell with x = 345, w = 2 and b = 5^3\n",
        "def f(w,x,b):\n",
        "    return(w*x+b)"
      ],
      "metadata": {
        "id": "UkH45hFrpmo0"
      },
      "execution_count": null,
      "outputs": []
    },
    {
      "cell_type": "code",
      "source": [
        "# Calling the above function i.e. f\n",
        "print(f(2,345,5**3))"
      ],
      "metadata": {
        "colab": {
          "base_uri": "https://localhost:8080/"
        },
        "id": "ngvOARgRqKEL",
        "outputId": "0bb0e605-761a-417c-ee09-43b53b4bf20f"
      },
      "execution_count": null,
      "outputs": [
        {
          "output_type": "stream",
          "name": "stdout",
          "text": [
            "815\n"
          ]
        }
      ]
    },
    {
      "cell_type": "markdown",
      "source": [
        "# TASK 1.2"
      ],
      "metadata": {
        "id": "p_HKkenvrL_S"
      }
    },
    {
      "cell_type": "code",
      "source": [
        "# Create a list, my_list containing at least 5 short strings\n",
        "my_list = [\"apple\", \"boy\", \"cat\", \"fish\",\"horse\"]\n",
        "print(my_list)"
      ],
      "metadata": {
        "colab": {
          "base_uri": "https://localhost:8080/"
        },
        "id": "jOahCsulrRCC",
        "outputId": "06bb020c-9f72-4ec7-f718-0355cc069a0d"
      },
      "execution_count": null,
      "outputs": [
        {
          "output_type": "stream",
          "name": "stdout",
          "text": [
            "['apple', 'boy', 'cat', 'fish', 'horse']\n"
          ]
        }
      ]
    },
    {
      "cell_type": "code",
      "source": [
        "#Write a loop which prints out the elements of the list in reverse order. Don't use List's reverse () method\n",
        "for i in range(len(my_list)-1,-1,-1):\n",
        "    print(my_list[i])"
      ],
      "metadata": {
        "colab": {
          "base_uri": "https://localhost:8080/"
        },
        "id": "SD4w76lLrtma",
        "outputId": "18a1f150-1fbd-4d41-e13c-afec60f302e4"
      },
      "execution_count": null,
      "outputs": [
        {
          "output_type": "stream",
          "name": "stdout",
          "text": [
            "horse\n",
            "fish\n",
            "cat\n",
            "boy\n",
            "apple\n"
          ]
        }
      ]
    },
    {
      "cell_type": "code",
      "source": [
        "# Define the function equals_100(x) = True if x = 100, else False and test the function by calling it for x = 99 and x = 100.\n",
        "def equals_100(x):\n",
        "    return x == 100\n",
        "\n",
        "print(equals_100(99))\n",
        "print(equals_100(100))"
      ],
      "metadata": {
        "colab": {
          "base_uri": "https://localhost:8080/"
        },
        "id": "RMea6cWOr_Wd",
        "outputId": "1b8972da-fb51-4e27-e495-4f64f92d8458"
      },
      "execution_count": null,
      "outputs": [
        {
          "output_type": "stream",
          "name": "stdout",
          "text": [
            "False\n",
            "True\n"
          ]
        }
      ]
    },
    {
      "cell_type": "code",
      "source": [
        "# Create a dictionary, my_dictionary, which recreates the following key-value pairings:\n",
        "# data_name = \"Animal counts\"\n",
        "# label = [\"cat\", \"dog\", \"fish\"]\n",
        "# count = [2, 5, 10]\n",
        "\n",
        "my_dictionary = {\n",
        "    \"data_name\" : \"Animal counts\",\n",
        "    \"label\"     : [\"cat\", \"dog\", \"fish\"],\n",
        "    \"count\"     : [2, 5, 10]\n",
        "}\n",
        "print(my_dictionary)"
      ],
      "metadata": {
        "colab": {
          "base_uri": "https://localhost:8080/"
        },
        "id": "fpDG9hHftGRK",
        "outputId": "dd97f90b-f3a4-4797-f712-97774ce0fe50"
      },
      "execution_count": null,
      "outputs": [
        {
          "output_type": "stream",
          "name": "stdout",
          "text": [
            "{'data_name': 'Animal counts', 'label': ['cat', 'dog', 'fish'], 'count': [2, 5, 10]}\n"
          ]
        }
      ]
    },
    {
      "cell_type": "code",
      "source": [
        "# Print out the content of the count key by indexing into the dictionary\n",
        "print(my_dictionary[\"count\"])"
      ],
      "metadata": {
        "colab": {
          "base_uri": "https://localhost:8080/"
        },
        "id": "tx9uma8Zuemq",
        "outputId": "6cc300e5-e5ce-467d-f5c1-18003068c658"
      },
      "execution_count": null,
      "outputs": [
        {
          "output_type": "stream",
          "name": "stdout",
          "text": [
            "[2, 5, 10]\n"
          ]
        }
      ]
    },
    {
      "cell_type": "code",
      "source": [
        "# Reproduce the following print out, using my_dictionary and an f-string: Animal name: dog, count: 5\n",
        "animal_name = \"dog\"\n",
        "reproduced_value = my_dictionary[\"count\"][my_dictionary[\"label\"].index(animal_name)]\n",
        "print(f\"Animal name : {animal_name}, Count: {reproduced_value}\")"
      ],
      "metadata": {
        "colab": {
          "base_uri": "https://localhost:8080/"
        },
        "id": "iEkWhp1guwNL",
        "outputId": "0d211037-820e-40de-8c76-9e9f9f97557a"
      },
      "execution_count": null,
      "outputs": [
        {
          "output_type": "stream",
          "name": "stdout",
          "text": [
            "Animal name : dog, Count: 5\n"
          ]
        }
      ]
    },
    {
      "cell_type": "code",
      "source": [],
      "metadata": {
        "id": "VluuHjOpv4kF"
      },
      "execution_count": null,
      "outputs": []
    },
    {
      "cell_type": "markdown",
      "source": [
        "# TASK 1.3"
      ],
      "metadata": {
        "id": "XrgtT9BC1fP2"
      }
    },
    {
      "cell_type": "code",
      "source": [
        "# Create two randomly initialized 2D numpy arrays of integers with size 2 x 3 and 3 x 4 respectively. Hint: numpy.random.randint will provide the functionality you require here.\n",
        "arr1 = np.random.randint(10, size=(2,3))\n",
        "arr2 = np.random.randint(10, size=(3,4))\n",
        "print(arr1)\n",
        "print(arr2)"
      ],
      "metadata": {
        "colab": {
          "base_uri": "https://localhost:8080/"
        },
        "id": "mti1Cgq617Y9",
        "outputId": "8879276c-2a14-403d-8ea3-aeef277e2c68"
      },
      "execution_count": null,
      "outputs": [
        {
          "output_type": "stream",
          "name": "stdout",
          "text": [
            "[[4 4 3]\n",
            " [9 1 3]]\n",
            "[[3 1 8 6]\n",
            " [0 6 8 6]\n",
            " [4 2 8 9]]\n"
          ]
        }
      ]
    },
    {
      "cell_type": "code",
      "source": [
        "# Perform a matrix multiplication of these two matrices, storing the result to a variable and printing the result.\n",
        "res = np.dot(arr1, arr2)\n",
        "print(res)"
      ],
      "metadata": {
        "colab": {
          "base_uri": "https://localhost:8080/"
        },
        "id": "mX160rSz2emE",
        "outputId": "c97958b4-417d-40fc-caaf-e6d49a2ffa0c"
      },
      "execution_count": null,
      "outputs": [
        {
          "output_type": "stream",
          "name": "stdout",
          "text": [
            "[[ 24  34  88  75]\n",
            " [ 39  21 104  87]]\n"
          ]
        }
      ]
    },
    {
      "cell_type": "code",
      "source": [
        "# Print only the first column of the result matrix from the last subtask.\n",
        "print(res[:,0])"
      ],
      "metadata": {
        "colab": {
          "base_uri": "https://localhost:8080/"
        },
        "id": "501IJCw63Hj9",
        "outputId": "b19d5b14-36b1-4663-ca17-4827f14e1f7d"
      },
      "execution_count": null,
      "outputs": [
        {
          "output_type": "stream",
          "name": "stdout",
          "text": [
            "[24 39]\n"
          ]
        }
      ]
    },
    {
      "cell_type": "markdown",
      "source": [
        "# TASK 1.4"
      ],
      "metadata": {
        "id": "wtzl21mc4TTs"
      }
    },
    {
      "cell_type": "code",
      "source": [
        "iris_file = np.load(\"Iris_data.npy\")\n",
        "print(iris_file)"
      ],
      "metadata": {
        "id": "0xxsGeb04l_z"
      },
      "execution_count": null,
      "outputs": []
    },
    {
      "cell_type": "code",
      "source": [
        "# Check you have a 2D numpy array by printing the shape of the loaded data. The first axis of this data should be 150 elements long, the second axis should be 4 elements long.\n",
        "# What does this mean?\n",
        "np.shape(iris_file)"
      ],
      "metadata": {
        "colab": {
          "base_uri": "https://localhost:8080/"
        },
        "id": "y4FAaXsT5MnM",
        "outputId": "74949ef2-68f7-4088-fd78-426d17dbde5e"
      },
      "execution_count": null,
      "outputs": [
        {
          "output_type": "execute_result",
          "data": {
            "text/plain": [
              "(150, 4)"
            ]
          },
          "metadata": {},
          "execution_count": 70
        }
      ]
    },
    {
      "cell_type": "code",
      "source": [
        "# From the above cell, 150 is the number of row and 4 is the number of column"
      ],
      "metadata": {
        "id": "DuF2eKy65VjD"
      },
      "execution_count": null,
      "outputs": []
    },
    {
      "cell_type": "code",
      "source": [
        "# Select 2 feature dimensions and create a scatter plot the data using matplotlib. pyplot's scatter function.\n",
        "features = iris_file[:, :2]\n",
        "plt.scatter(features[:, 0], features[:, 1])\n",
        "plt.title(\"Scatter plot of two features\")\n",
        "plt.xlabel(\"Sepal Length\")\n",
        "plt.ylabel(\"Sepal Width\")\n",
        "plt.show()"
      ],
      "metadata": {
        "colab": {
          "base_uri": "https://localhost:8080/",
          "height": 472
        },
        "id": "sJhO5JVL6PLU",
        "outputId": "46780565-5bbe-4d21-e2e2-8fabe79fead8"
      },
      "execution_count": null,
      "outputs": [
        {
          "output_type": "display_data",
          "data": {
            "text/plain": [
              "<Figure size 640x480 with 1 Axes>"
            ],
            "image/png": "[encoded data removed]"
          },
          "metadata": {}
        }
      ]
    },
    {
      "cell_type": "code",
      "source": [],
      "metadata": {
        "id": "eW67PD2Cq6KB"
      },
      "execution_count": null,
      "outputs": []
    }
  ]
}