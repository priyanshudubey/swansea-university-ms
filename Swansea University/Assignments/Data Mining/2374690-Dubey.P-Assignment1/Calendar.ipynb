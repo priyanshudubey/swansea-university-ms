{
  "nbformat": 4,
  "nbformat_minor": 0,
  "metadata": {
    "colab": {
      "provenance": []
    },
    "kernelspec": {
      "name": "python3",
      "display_name": "Python 3"
    },
    "language_info": {
      "name": "python"
    }
  },
  "cells": [
    {
      "cell_type": "markdown",
      "source": [
        "# LAB ASSIGNMENT 1"
      ],
      "metadata": {
        "id": "mYwXn3FHHvU9"
      }
    },
    {
      "cell_type": "code",
      "source": [
        "'''\n",
        "NAME        - PRIYANSHU DUBEY\n",
        "STUDENT NO. - 2374690\n",
        "DATE        - 06/02/2024\n",
        "'''"
      ],
      "metadata": {
        "id": "Gdg0oA-FIQ_p"
      },
      "execution_count": null,
      "outputs": []
    },
    {
      "cell_type": "markdown",
      "source": [
        "# TASK 1.1 - LEAP YEAR"
      ],
      "metadata": {
        "id": "DcFpWKFTIpJ1"
      }
    },
    {
      "cell_type": "code",
      "source": [
        "# calendarYear is a function to check wether a year is leap year or common year\n",
        "def calendarYear(year):\n",
        "    if(year % 4 != 0):\n",
        "        return False\n",
        "    elif(year % 400 == 0) and (year % 100 == 0):\n",
        "        return True\n",
        "    elif(year %4 == 0) and (year % 100 != 0):\n",
        "        return True\n",
        "    elif(year % 400 == 0) and (year % 3200 != 0):\n",
        "        return True\n",
        "    else:\n",
        "        return False\n",
        "\n",
        "year = 2022\n",
        "ans = calendarYear(year)\n",
        "\n",
        "if(ans):\n",
        "    print(f'{year} is a leap year')\n",
        "else:\n",
        "    print(f'{year} is a common year')"
      ],
      "metadata": {
        "colab": {
          "base_uri": "https://localhost:8080/"
        },
        "id": "oFcWrl9gItUy",
        "outputId": "ab2dffae-8766-467b-d5cb-5bafce986823"
      },
      "execution_count": 2,
      "outputs": [
        {
          "output_type": "stream",
          "name": "stdout",
          "text": [
            "2022 is a common year\n"
          ]
        }
      ]
    },
    {
      "cell_type": "markdown",
      "source": [
        "# TASK 1.2 - THE DAY OF THE WEEK"
      ],
      "metadata": {
        "id": "H8Y-vfyxOUGU"
      }
    },
    {
      "cell_type": "code",
      "source": [
        "# dayOfTheWeek is the function which checks for the day of the week where:\n",
        "'''\n",
        "1 ~ h -  is the day of the week which startes from Saturday which is -0 and\n",
        "         Friday being the last day of the week which is 6\n",
        "2 ~ q - is the day of the month\n",
        "3 ~ m - is the month where March being the 3 and February being the 14\n",
        "4 ~ k - is the year of the century\n",
        "5 ~ J - is the Zero-based century\n",
        "6 ~ mod - is the modulo operation\n",
        "'''\n",
        "def dayOfTheWeek(month, dayOfMonth, year):\n",
        "    if month in [1,2]:\n",
        "        month += 12\n",
        "        year -= 1\n",
        "\n",
        "    q = dayOfMonth\n",
        "    m = month\n",
        "    k = year % 100\n",
        "    j = year // 100\n",
        "\n",
        "    h = (q + int(13 * (m + 1) / 5) + k + int(k / 4) + int(j / 4) - 2 * j) % 7\n",
        "    weekDay = ((h + 5) % 7) + 1\n",
        "    return weekDay\n",
        "\n",
        "day = dayOfTheWeek(2, 20, 2024) # This will print the number of the day but if you need to see which day was that then below I am printing the name of that day\n",
        "weekday_name = ['Monday', 'Tuesday', 'Wednesday', 'Thursday', 'Friday', 'Saturday', 'Sunday']\n",
        "print(f\"The day of the week is {day} i.e. - {weekday_name[day - 1]}\")"
      ],
      "metadata": {
        "id": "eznqqtU9Od9Q",
        "colab": {
          "base_uri": "https://localhost:8080/"
        },
        "outputId": "c9ef8025-3991-4142-e51e-077275145a40"
      },
      "execution_count": 3,
      "outputs": [
        {
          "output_type": "stream",
          "name": "stdout",
          "text": [
            "The day of the week is 2 i.e. - Tuesday\n"
          ]
        }
      ]
    },
    {
      "cell_type": "markdown",
      "source": [
        "# Task 1.3 Print Calendar of the Year"
      ],
      "metadata": {
        "id": "WJJIkWatTF2J"
      }
    },
    {
      "cell_type": "code",
      "source": [
        "'''\n",
        "Print out the monthly calendar of a given month where we have to print the month and year as heading and\n",
        "the sub-heading will the days which dtasts from Mondyta and ends at Sunday.\n",
        "The Input to the finction will be month and the year in the format - Feb 2019\n",
        "'''\n",
        "\n",
        "def CalendarOfMonth(month, year):\n",
        "    month_name = ['Jan', 'Feb', 'March', 'April', 'May', 'June', 'July', 'Aug', 'Sept', 'Oct', 'Nov', 'Dec']\n",
        "    print('        ',month_name[month-1], year,'       ')\n",
        "    print(\"Mon Tue Wed Thu Fri Sat Sun\")\n",
        "\n",
        "    if month == 2:\n",
        "        if calendarYear(year):\n",
        "            day_in_month = 29\n",
        "        else:\n",
        "            day_in_month = 28\n",
        "    elif month in [1, 3, 5, 7, 8, 10, 12]:\n",
        "        day_in_month = 31\n",
        "    else:\n",
        "        day_in_month = 30\n",
        "\n",
        "    first_day = dayOfTheWeek(month, 1, year)\n",
        "\n",
        "    for day in range(1,first_day):\n",
        "        print(\" \", end=\"   \")\n",
        "    for day in range(1, day_in_month + 1):\n",
        "        print(\"{:2d}\".format(day), end=\"  \")\n",
        "        if (day + first_day - 1 ) % 7 == 0:\n",
        "            print('\\n')\n",
        "    print('\\n')\n",
        "CalendarOfMonth(12, 2024)"
      ],
      "metadata": {
        "colab": {
          "base_uri": "https://localhost:8080/"
        },
        "id": "b90uFdleTL1v",
        "outputId": "63f18ac9-0f8f-46e3-bc87-3a6b51925294"
      },
      "execution_count": 8,
      "outputs": [
        {
          "output_type": "stream",
          "name": "stdout",
          "text": [
            "         Dec 2024        \n",
            "Mon Tue Wed Thu Fri Sat Sun\n",
            "                         1  \n",
            "\n",
            " 2   3   4   5   6   7   8  \n",
            "\n",
            " 9  10  11  12  13  14  15  \n",
            "\n",
            "16  17  18  19  20  21  22  \n",
            "\n",
            "23  24  25  26  27  28  29  \n",
            "\n",
            "30  31  \n",
            "\n"
          ]
        }
      ]
    },
    {
      "cell_type": "code",
      "source": [],
      "metadata": {
        "id": "YHFeWDtAY2dv"
      },
      "execution_count": null,
      "outputs": []
    }
  ]
}